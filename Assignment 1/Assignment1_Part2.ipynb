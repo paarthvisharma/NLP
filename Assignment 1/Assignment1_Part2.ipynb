{
 "cells": [
  {
   "cell_type": "markdown",
   "metadata": {},
   "source": [
    "## Data Preparation"
   ]
  },
  {
   "cell_type": "code",
   "execution_count": 22,
   "metadata": {},
   "outputs": [
    {
     "name": "stderr",
     "output_type": "stream",
     "text": [
      "[nltk_data] Downloading package movie_reviews to\n",
      "[nltk_data]     /Users/paarthvisharma/nltk_data...\n",
      "[nltk_data]   Package movie_reviews is already up-to-date!\n",
      "[nltk_data] Downloading package stopwords to\n",
      "[nltk_data]     /Users/paarthvisharma/nltk_data...\n",
      "[nltk_data]   Package stopwords is already up-to-date!\n",
      "[nltk_data] Downloading package punkt to\n",
      "[nltk_data]     /Users/paarthvisharma/nltk_data...\n",
      "[nltk_data]   Package punkt is already up-to-date!\n",
      "[nltk_data] Downloading package wordnet to\n",
      "[nltk_data]     /Users/paarthvisharma/nltk_data...\n",
      "[nltk_data]   Package wordnet is already up-to-date!\n"
     ]
    }
   ],
   "source": [
    "# Importing nltk libarary\n",
    "import nltk\n",
    "import random\n",
    "from collections import Counter\n",
    "\n",
    "# Downloading the movie-review datase\n",
    "nltk.download('movie_reviews')\n",
    "\n",
    "# Basic Imports\n",
    "import pandas as pd\n",
    "import matplotlib.pyplot as plt\n",
    "import numpy as np\n",
    "\n",
    "# Importing the required functions for pre-processing the dataset\n",
    "\n",
    "from nltk.corpus import stopwords\n",
    "from nltk.tokenize import word_tokenize\n",
    "from nltk.stem import PorterStemmer, WordNetLemmatizer\n",
    "\n",
    "# Download the requirements\n",
    "nltk.download('stopwords')\n",
    "nltk.download(\"punkt\")\n",
    "nltk.download('wordnet')\n",
    "stopwords = set(stopwords.words('english'))\n"
   ]
  },
  {
   "cell_type": "code",
   "execution_count": 2,
   "metadata": {},
   "outputs": [],
   "source": [
    "from nltk.corpus import movie_reviews\n",
    "\n",
    "# Access the movie reviews and labels\n",
    "documents = [(list(movie_reviews.words(fileid)), category)\n",
    "for category in movie_reviews.categories()\n",
    "for fileid in movie_reviews.fileids(category)]\n",
    "# Shuffle the documents to ensure a balanced distribution of positive and negative reviews\n",
    "random.shuffle(documents)"
   ]
  },
  {
   "cell_type": "code",
   "execution_count": 4,
   "metadata": {},
   "outputs": [
    {
     "name": "stdout",
     "output_type": "stream",
     "text": [
      "['--', 'comedy', ',', 'rated', 'pg', ',', 'runs', 'about', '1', ':', '40', '--', 'starring', ':', 'john', 'goodman', ',', 'kathy', 'moriarty', ',', 'and', 'a', 'bunch', 'of', 'teenagers', '--', 'directed', 'by', 'joe', 'dante', 'and', 'written', 'by', 'charles', 'hass', '--', 'summary', ':', 'lawrence', 'woolsley', '(', 'john', 'goodman', ')', 'brings', 'his', 'new', 'horror', 'film', 'mant', '!', 'to', 'premiere', 'in', 'key', 'west', 'during', 'the', 'height', 'of', 'the', 'cuban', 'missile', 'crisis', '.', 'he', 'hopes', 'to', 'capitalize', 'on', 'the', 'tense', 'moment', 'by', 'providing', 'an', 'escape', 'for', 'the', 'town', '.', 'we', 'see', 'most', 'of', 'the', 'events', 'through', 'the', 'stories', 'of', 'four', 'teenagers', 'and', 'how', 'life', 'affects', 'them', '.', 'quick', 'and', 'easy', 'review', ':', 'i', 'really', 'enjoyed', 'matinee', '.', 'the', 'mixture', 'of', 'comedy', 'and', 'tension', 'blended', 'nicely', '.', 'unlike', 'many', 'comedies', 'this', 'film', 'tries', ',', 'and', 'succeeds', ',', 'in', 'getting', 'past', 'the', 'stage', 'of', 'doing', 'anything', 'for', 'a', 'laugh', '.', 'the', 'makers', 'of', 'the', 'film', 'also', 'cared', 'about', 'telling', 'an', 'intelligent', 'story', '.', 'the', 'performances', 'of', 'all', 'the', 'principals', 'are', 'right', 'on', 'the', 'mark', ',', 'particularly', 'john', 'goodman', 'as', 'the', 'schlock', 'master', '.', 'so', 'i', 'would', 'definitely', 'recommend', 'this', 'film', 'to', 'anyone', 'looking', 'for', 'a', 'light', 'hearted', ',', 'yet', 'interesting', 'way', 'to', 'spend', 'a', 'couple', 'of', 'hours', '.', 'longer', ',', 'more', 'detailed', 'review', ':', '[', 'beware', 'of', 'spoilers', ']', 'the', 'primary', 'reason', 'i', 'enjoyed', 'this', 'film', 'was', ',', 'that', 'while', 'being', 'a', 'comedy', ',', 'the', 'film', 'also', 'had', 'an', 'intelligent', 'story', 'to', 'tell', '.', 'too', 'many', 'comedies', 'today', 'subscribe', 'to', 'the', 'the', 'notion', 'that', 'a', 'comedy', 'need', 'only', 'make', 'you', 'laugh', '.', 'you', 'watch', 'the', 'movie', ',', 'laugh', 'a', 'lot', ',', 'leave', 'the', 'theatre', 'and', 'take', 'nothing', 'with', 'you', '.', 'matinee', 'is', 'not', 'like', 'that', '.', 'i', 'left', 'the', 'picture', 'thinking', 'about', 'what', 'i', 'would', 'do', 'faced', 'with', 'the', 'cuban', 'missile', 'crisis', '.', 'i', 'found', 'myself', 'wondering', 'what', 'would', 'happen', 'to', 'the', 'characters', 'of', 'the', 'film', '.', 'but', 'most', 'importantly', ',', 'i', 'found', 'myself', 'caring', 'about', 'what', 'would', 'happen', 'to', 'the', 'characters', '.', 'the', 'comedy', 'of', 'the', 'film', 'centers', 'around', 'goodman', ',', 'his', 'character', ',', 'and', 'the', 'film', 'he', 'brings', 'to', 'key', 'west', '.', 'i', 'believe', 'that', 'goodman', 'is', 'one', 'of', 'the', 'finest', 'comedic', 'actors', 'in', 'the', 'business', 'today', '.', 'he', 'is', 'highly', 'expressive', 'both', 'physically', 'and', 'vocally', '.', 'i', 'felt', 'he', 'at', 'least', 'deserved', 'an', 'oscar', 'nomination', 'for', 'his', 'work', 'in', 'barton', 'fink', '.', 'the', 'other', 'characters', 'are', 'often', 'lost', 'in', 'a', 'scene', 'with', 'him', 'due', 'to', 'his', 'commanding', 'nature', ',', 'however', ',', 'while', 'the', 'star', ',', 'goodman', 'is', 'actually', 'not', 'at', 'the', 'center', 'of', 'the', 'film', '.', 'the', 'movie', 'is', 'really', 'the', 'story', 'of', 'the', 'four', 'teenagers', ',', 'discovering', 'who', 'they', 'are', 'and', 'what', 'they', 'want', ',', 'against', 'a', 'background', 'where', 'at', 'any', 'minute', 'it', 'could', 'all', 'end', '.', 'i', 'thought', 'the', 'kids', 'reaction', 'were', 'highly', 'realistic', '.', 'they', 'tried', 'to', 'block', 'it', 'out', ',', 'they', 'tried', 'to', 'escape', 'from', 'the', 'concerns', 'of', 'their', 'world', '.', 'unfortunately', 'it', 'kept', 'creeping', 'back', 'in', ',', 'particularly', 'with', 'the', 'fear', ',', 'and', 'the', 'chaos', 'of', 'the', 'time', '.', 'while', 'the', 'comedy', 'centered', 'on', 'goodman', ',', 'and', 'the', 'drama', 'on', 'the', 'teens', ',', 'there', 'was', 'a', 'great', 'deal', 'of', 'overlap', '.', 'several', 'aspects', 'of', 'the', 'panic', 'are', 'shown', 'in', 'a', 'humorous', 'light', '.', 'one', 'example', 'is', 'a', 'scene', 'where', 'people', 'are', 'fighting', 'each', 'other', 'for', 'the', 'the', 'last', 'cans', 'and', 'boxes', 'of', 'food', 'in', 'a', 'grocery', 'store', '.', 'if', 'you', 'think', 'about', 'it', 'the', 'threat', 'of', 'nuclear', 'annihilation', 'seems', 'hardly', 'to', 'be', 'the', 'backdrop', 'for', 'a', 'comedy', ',', 'but', 'it', 'works', 'here', '.', 'another', 'reason', 'i', 'like', 'this', 'film', 'is', 'that', 'i', 'like', 'b', '-', 'science', 'fiction', 'movies', '.', 'one', 'of', 'my', 'favorite', 'films', 'to', 'go', 'watch', 'is', 'plan', '9', 'from', 'outer', 'space', '.', '(', 'note', 'i', 'did', 'not', 'say', 'it', 'was', 'one', 'of', 'my', 'favorite', 'movies', ',', 'but', 'one', 'of', 'my', 'favorite', 'to', 'see', '.', ')', 'while', 'mant', '!', 'never', 'got', 'made', ',', 'many', 'films', 'like', 'it', 'were', ',', 'and', 'mant', '!', 'serves', 'mostly', 'as', 'dante', \"'\", 's', 'homage', 'to', 'the', 'b', '-', 'films', 'he', 'loves', '.', 'so', 'again', 'i', 'would', 'like', 'to', 'recommend', 'matinee', 'to', 'anybody', 'looking', 'for', 'a', 'good', ',', 'humorous', 'story', '.', 'this', 'isn', \"'\", 't', 'a', 'gag', 'film', 'like', 'many', 'other', 'comedies', 'but', 'an', 'intelligent', ',', 'well', '-', 'thought', 'out', ',', 'film', 'about', 'real', 'people', 'with', 'real', 'problems', 'told', 'in', 'an', 'often', 'hilarious', 'way', '.', 'enjoy', '!']\n",
      "pos\n"
     ]
    }
   ],
   "source": [
    "# Review the results\n",
    "print(documents[0][0])\n",
    "print(documents[0][1])"
   ]
  },
  {
   "cell_type": "code",
   "execution_count": 5,
   "metadata": {},
   "outputs": [
    {
     "data": {
      "text/plain": [
       "[(',', 77717),\n",
       " ('the', 76529),\n",
       " ('.', 65876),\n",
       " ('a', 38106),\n",
       " ('and', 35576),\n",
       " ('of', 34123),\n",
       " ('to', 31937),\n",
       " (\"'\", 30585),\n",
       " ('is', 25195),\n",
       " ('in', 21822),\n",
       " ('s', 18513),\n",
       " ('\"', 17612),\n",
       " ('it', 16107),\n",
       " ('that', 15924),\n",
       " ('-', 15595)]"
      ]
     },
     "execution_count": 5,
     "metadata": {},
     "output_type": "execute_result"
    }
   ],
   "source": [
    "# Exploring the dataset\n",
    "\n",
    "# Fequency distribution of most common words\n",
    "nltk.FreqDist(movie_reviews.words()).most_common(15)"
   ]
  },
  {
   "cell_type": "code",
   "execution_count": 7,
   "metadata": {},
   "outputs": [
    {
     "data": {
      "text/plain": [
       "['pos/cv000_29590.txt',\n",
       " 'pos/cv001_18431.txt',\n",
       " 'pos/cv002_15918.txt',\n",
       " 'pos/cv003_11664.txt',\n",
       " 'pos/cv004_11636.txt',\n",
       " 'pos/cv005_29443.txt',\n",
       " 'pos/cv006_15448.txt',\n",
       " 'pos/cv007_4968.txt',\n",
       " 'pos/cv008_29435.txt',\n",
       " 'pos/cv009_29592.txt']"
      ]
     },
     "execution_count": 7,
     "metadata": {},
     "output_type": "execute_result"
    }
   ],
   "source": [
    "# Printing file IDs of first ten pos reviews\n",
    "movie_reviews.fileids('pos')[:10]"
   ]
  },
  {
   "cell_type": "code",
   "execution_count": 8,
   "metadata": {},
   "outputs": [
    {
     "data": {
      "text/plain": [
       "['neg/cv000_29416.txt',\n",
       " 'neg/cv001_19502.txt',\n",
       " 'neg/cv002_17424.txt',\n",
       " 'neg/cv003_12683.txt',\n",
       " 'neg/cv004_12641.txt',\n",
       " 'neg/cv005_29357.txt',\n",
       " 'neg/cv006_17022.txt',\n",
       " 'neg/cv007_4992.txt',\n",
       " 'neg/cv008_29326.txt',\n",
       " 'neg/cv009_29417.txt']"
      ]
     },
     "execution_count": 8,
     "metadata": {},
     "output_type": "execute_result"
    }
   ],
   "source": [
    "# Printing file IDs of first ten neg reviews\n",
    "movie_reviews.fileids('neg')[:10]"
   ]
  },
  {
   "cell_type": "code",
   "execution_count": 9,
   "metadata": {},
   "outputs": [
    {
     "data": {
      "text/plain": [
       "['wow', '!', 'what', 'a', 'movie', '.', 'it', \"'\", 's', ...]"
      ]
     },
     "execution_count": 9,
     "metadata": {},
     "output_type": "execute_result"
    }
   ],
   "source": [
    "# Printing words with ID pos/cv995_21821.txt\n",
    "movie_reviews.words('pos/cv995_21821.txt')"
   ]
  },
  {
   "cell_type": "code",
   "execution_count": 10,
   "metadata": {},
   "outputs": [
    {
     "name": "stdout",
     "output_type": "stream",
     "text": [
      "Sample Review: ['--', 'comedy', ',', 'rated', 'pg', ',', 'runs', 'about', '1', ':']\n",
      "Label: pos\n"
     ]
    }
   ],
   "source": [
    "# Print the first review and its label\n",
    "print(\"Sample Review:\", documents[0][0][:10]) # Displaying the first 10 words for brevity\n",
    "print(\"Label:\", documents[0][1])"
   ]
  },
  {
   "cell_type": "code",
   "execution_count": 20,
   "metadata": {},
   "outputs": [],
   "source": [
    "# Preprocessing\n",
    "# Instances for Lemmatization \n",
    "lemmatizer = WordNetLemmatizer()\n",
    "\n",
    "processed_data = []\n",
    "\n",
    "# Iterating through the words and respective categories in doctumenst\n",
    "for words, category in documents:\n",
    "\n",
    "    \n",
    "    # Using the word tokentizer library from nltk to create tokens\n",
    "    token_data = word_tokenize(\" \".join(words))\n",
    "    # Removing the stop words\n",
    "    filtered_token_data = [token.lower() for token in token_data if token.lower() not in stopwords]\n",
    "    # Lemmatization\n",
    "    lemmatized_token_data = [lemmatizer.lemmatize(token) for token in filtered_token_data]\n",
    "\n",
    "    # Appending the processed output with categories\n",
    "    processed_data.append((lemmatized_token_data, category))"
   ]
  },
  {
   "cell_type": "code",
   "execution_count": 21,
   "metadata": {},
   "outputs": [
    {
     "name": "stdout",
     "output_type": "stream",
     "text": [
      "Original Words: ['--', 'comedy', ',', 'rated', 'pg', ',', 'runs', 'about', '1', ':', '40', '--', 'starring', ':', 'john', 'goodman', ',', 'kathy', 'moriarty', ',', 'and', 'a', 'bunch', 'of', 'teenagers', '--', 'directed', 'by', 'joe', 'dante', 'and', 'written', 'by', 'charles', 'hass', '--', 'summary', ':', 'lawrence', 'woolsley', '(', 'john', 'goodman', ')', 'brings', 'his', 'new', 'horror', 'film', 'mant', '!', 'to', 'premiere', 'in', 'key', 'west', 'during', 'the', 'height', 'of', 'the', 'cuban', 'missile', 'crisis', '.', 'he', 'hopes', 'to', 'capitalize', 'on', 'the', 'tense', 'moment', 'by', 'providing', 'an', 'escape', 'for', 'the', 'town', '.', 'we', 'see', 'most', 'of', 'the', 'events', 'through', 'the', 'stories', 'of', 'four', 'teenagers', 'and', 'how', 'life', 'affects', 'them', '.', 'quick', 'and', 'easy', 'review', ':', 'i', 'really', 'enjoyed', 'matinee', '.', 'the', 'mixture', 'of', 'comedy', 'and', 'tension', 'blended', 'nicely', '.', 'unlike', 'many', 'comedies', 'this', 'film', 'tries', ',', 'and', 'succeeds', ',', 'in', 'getting', 'past', 'the', 'stage', 'of', 'doing', 'anything', 'for', 'a', 'laugh', '.', 'the', 'makers', 'of', 'the', 'film', 'also', 'cared', 'about', 'telling', 'an', 'intelligent', 'story', '.', 'the', 'performances', 'of', 'all', 'the', 'principals', 'are', 'right', 'on', 'the', 'mark', ',', 'particularly', 'john', 'goodman', 'as', 'the', 'schlock', 'master', '.', 'so', 'i', 'would', 'definitely', 'recommend', 'this', 'film', 'to', 'anyone', 'looking', 'for', 'a', 'light', 'hearted', ',', 'yet', 'interesting', 'way', 'to', 'spend', 'a', 'couple', 'of', 'hours', '.', 'longer', ',', 'more', 'detailed', 'review', ':', '[', 'beware', 'of', 'spoilers', ']', 'the', 'primary', 'reason', 'i', 'enjoyed', 'this', 'film', 'was', ',', 'that', 'while', 'being', 'a', 'comedy', ',', 'the', 'film', 'also', 'had', 'an', 'intelligent', 'story', 'to', 'tell', '.', 'too', 'many', 'comedies', 'today', 'subscribe', 'to', 'the', 'the', 'notion', 'that', 'a', 'comedy', 'need', 'only', 'make', 'you', 'laugh', '.', 'you', 'watch', 'the', 'movie', ',', 'laugh', 'a', 'lot', ',', 'leave', 'the', 'theatre', 'and', 'take', 'nothing', 'with', 'you', '.', 'matinee', 'is', 'not', 'like', 'that', '.', 'i', 'left', 'the', 'picture', 'thinking', 'about', 'what', 'i', 'would', 'do', 'faced', 'with', 'the', 'cuban', 'missile', 'crisis', '.', 'i', 'found', 'myself', 'wondering', 'what', 'would', 'happen', 'to', 'the', 'characters', 'of', 'the', 'film', '.', 'but', 'most', 'importantly', ',', 'i', 'found', 'myself', 'caring', 'about', 'what', 'would', 'happen', 'to', 'the', 'characters', '.', 'the', 'comedy', 'of', 'the', 'film', 'centers', 'around', 'goodman', ',', 'his', 'character', ',', 'and', 'the', 'film', 'he', 'brings', 'to', 'key', 'west', '.', 'i', 'believe', 'that', 'goodman', 'is', 'one', 'of', 'the', 'finest', 'comedic', 'actors', 'in', 'the', 'business', 'today', '.', 'he', 'is', 'highly', 'expressive', 'both', 'physically', 'and', 'vocally', '.', 'i', 'felt', 'he', 'at', 'least', 'deserved', 'an', 'oscar', 'nomination', 'for', 'his', 'work', 'in', 'barton', 'fink', '.', 'the', 'other', 'characters', 'are', 'often', 'lost', 'in', 'a', 'scene', 'with', 'him', 'due', 'to', 'his', 'commanding', 'nature', ',', 'however', ',', 'while', 'the', 'star', ',', 'goodman', 'is', 'actually', 'not', 'at', 'the', 'center', 'of', 'the', 'film', '.', 'the', 'movie', 'is', 'really', 'the', 'story', 'of', 'the', 'four', 'teenagers', ',', 'discovering', 'who', 'they', 'are', 'and', 'what', 'they', 'want', ',', 'against', 'a', 'background', 'where', 'at', 'any', 'minute', 'it', 'could', 'all', 'end', '.', 'i', 'thought', 'the', 'kids', 'reaction', 'were', 'highly', 'realistic', '.', 'they', 'tried', 'to', 'block', 'it', 'out', ',', 'they', 'tried', 'to', 'escape', 'from', 'the', 'concerns', 'of', 'their', 'world', '.', 'unfortunately', 'it', 'kept', 'creeping', 'back', 'in', ',', 'particularly', 'with', 'the', 'fear', ',', 'and', 'the', 'chaos', 'of', 'the', 'time', '.', 'while', 'the', 'comedy', 'centered', 'on', 'goodman', ',', 'and', 'the', 'drama', 'on', 'the', 'teens', ',', 'there', 'was', 'a', 'great', 'deal', 'of', 'overlap', '.', 'several', 'aspects', 'of', 'the', 'panic', 'are', 'shown', 'in', 'a', 'humorous', 'light', '.', 'one', 'example', 'is', 'a', 'scene', 'where', 'people', 'are', 'fighting', 'each', 'other', 'for', 'the', 'the', 'last', 'cans', 'and', 'boxes', 'of', 'food', 'in', 'a', 'grocery', 'store', '.', 'if', 'you', 'think', 'about', 'it', 'the', 'threat', 'of', 'nuclear', 'annihilation', 'seems', 'hardly', 'to', 'be', 'the', 'backdrop', 'for', 'a', 'comedy', ',', 'but', 'it', 'works', 'here', '.', 'another', 'reason', 'i', 'like', 'this', 'film', 'is', 'that', 'i', 'like', 'b', '-', 'science', 'fiction', 'movies', '.', 'one', 'of', 'my', 'favorite', 'films', 'to', 'go', 'watch', 'is', 'plan', '9', 'from', 'outer', 'space', '.', '(', 'note', 'i', 'did', 'not', 'say', 'it', 'was', 'one', 'of', 'my', 'favorite', 'movies', ',', 'but', 'one', 'of', 'my', 'favorite', 'to', 'see', '.', ')', 'while', 'mant', '!', 'never', 'got', 'made', ',', 'many', 'films', 'like', 'it', 'were', ',', 'and', 'mant', '!', 'serves', 'mostly', 'as', 'dante', \"'\", 's', 'homage', 'to', 'the', 'b', '-', 'films', 'he', 'loves', '.', 'so', 'again', 'i', 'would', 'like', 'to', 'recommend', 'matinee', 'to', 'anybody', 'looking', 'for', 'a', 'good', ',', 'humorous', 'story', '.', 'this', 'isn', \"'\", 't', 'a', 'gag', 'film', 'like', 'many', 'other', 'comedies', 'but', 'an', 'intelligent', ',', 'well', '-', 'thought', 'out', ',', 'film', 'about', 'real', 'people', 'with', 'real', 'problems', 'told', 'in', 'an', 'often', 'hilarious', 'way', '.', 'enjoy', '!']\n",
      "Preprocessed Words: ['--', 'comedy', ',', 'rated', 'pg', ',', 'run', '1', ':', '40', '--', 'starring', ':', 'john', 'goodman', ',', 'kathy', 'moriarty', ',', 'bunch', 'teenager', '--', 'directed', 'joe', 'dante', 'written', 'charles', 'ha', '--', 'summary', ':', 'lawrence', 'woolsley', '(', 'john', 'goodman', ')', 'brings', 'new', 'horror', 'film', 'mant', '!', 'premiere', 'key', 'west', 'height', 'cuban', 'missile', 'crisis', '.', 'hope', 'capitalize', 'tense', 'moment', 'providing', 'escape', 'town', '.', 'see', 'event', 'story', 'four', 'teenager', 'life', 'affect', '.', 'quick', 'easy', 'review', ':', 'really', 'enjoyed', 'matinee', '.', 'mixture', 'comedy', 'tension', 'blended', 'nicely', '.', 'unlike', 'many', 'comedy', 'film', 'try', ',', 'succeeds', ',', 'getting', 'past', 'stage', 'anything', 'laugh', '.', 'maker', 'film', 'also', 'cared', 'telling', 'intelligent', 'story', '.', 'performance', 'principal', 'right', 'mark', ',', 'particularly', 'john', 'goodman', 'schlock', 'master', '.', 'would', 'definitely', 'recommend', 'film', 'anyone', 'looking', 'light', 'hearted', ',', 'yet', 'interesting', 'way', 'spend', 'couple', 'hour', '.', 'longer', ',', 'detailed', 'review', ':', '[', 'beware', 'spoiler', ']', 'primary', 'reason', 'enjoyed', 'film', ',', 'comedy', ',', 'film', 'also', 'intelligent', 'story', 'tell', '.', 'many', 'comedy', 'today', 'subscribe', 'notion', 'comedy', 'need', 'make', 'laugh', '.', 'watch', 'movie', ',', 'laugh', 'lot', ',', 'leave', 'theatre', 'take', 'nothing', '.', 'matinee', 'like', '.', 'left', 'picture', 'thinking', 'would', 'faced', 'cuban', 'missile', 'crisis', '.', 'found', 'wondering', 'would', 'happen', 'character', 'film', '.', 'importantly', ',', 'found', 'caring', 'would', 'happen', 'character', '.', 'comedy', 'film', 'center', 'around', 'goodman', ',', 'character', ',', 'film', 'brings', 'key', 'west', '.', 'believe', 'goodman', 'one', 'finest', 'comedic', 'actor', 'business', 'today', '.', 'highly', 'expressive', 'physically', 'vocally', '.', 'felt', 'least', 'deserved', 'oscar', 'nomination', 'work', 'barton', 'fink', '.', 'character', 'often', 'lost', 'scene', 'due', 'commanding', 'nature', ',', 'however', ',', 'star', ',', 'goodman', 'actually', 'center', 'film', '.', 'movie', 'really', 'story', 'four', 'teenager', ',', 'discovering', 'want', ',', 'background', 'minute', 'could', 'end', '.', 'thought', 'kid', 'reaction', 'highly', 'realistic', '.', 'tried', 'block', ',', 'tried', 'escape', 'concern', 'world', '.', 'unfortunately', 'kept', 'creeping', 'back', ',', 'particularly', 'fear', ',', 'chaos', 'time', '.', 'comedy', 'centered', 'goodman', ',', 'drama', 'teen', ',', 'great', 'deal', 'overlap', '.', 'several', 'aspect', 'panic', 'shown', 'humorous', 'light', '.', 'one', 'example', 'scene', 'people', 'fighting', 'last', 'can', 'box', 'food', 'grocery', 'store', '.', 'think', 'threat', 'nuclear', 'annihilation', 'seems', 'hardly', 'backdrop', 'comedy', ',', 'work', '.', 'another', 'reason', 'like', 'film', 'like', 'b', '-', 'science', 'fiction', 'movie', '.', 'one', 'favorite', 'film', 'go', 'watch', 'plan', '9', 'outer', 'space', '.', '(', 'note', 'say', 'one', 'favorite', 'movie', ',', 'one', 'favorite', 'see', '.', ')', 'mant', '!', 'never', 'got', 'made', ',', 'many', 'film', 'like', ',', 'mant', '!', 'serf', 'mostly', 'dante', \"'\", 'homage', 'b', '-', 'film', 'love', '.', 'would', 'like', 'recommend', 'matinee', 'anybody', 'looking', 'good', ',', 'humorous', 'story', '.', \"'\", 'gag', 'film', 'like', 'many', 'comedy', 'intelligent', ',', 'well', '-', 'thought', ',', 'film', 'real', 'people', 'real', 'problem', 'told', 'often', 'hilarious', 'way', '.', 'enjoy', '!']\n",
      "Category: pos\n"
     ]
    }
   ],
   "source": [
    "print(\"Original Words:\", documents[0][0])\n",
    "print(\"Preprocessed Words:\", processed_data[0][0])\n",
    "print(\"Category:\", processed_data[0][1])"
   ]
  },
  {
   "cell_type": "code",
   "execution_count": 41,
   "metadata": {},
   "outputs": [
    {
     "data": {
      "image/png": "[encoded data removed]",
      "text/plain": [
       "<Figure size 1000x600 with 1 Axes>"
      ]
     },
     "metadata": {},
     "output_type": "display_data"
    }
   ],
   "source": [
    "preprocessed_data_words = [word for doc, _ in processed_data for word in doc]\n",
    "\n",
    "# Counting the frequency of words\n",
    "frequency = Counter(preprocessed_data_words)\n",
    "\n",
    "# Sorting words by frequency\n",
    "words_sorted = sorted(frequency, key=frequency.get, reverse=True)\n",
    "\n",
    "# Calculate cumulative coverage\n",
    "coverage = []\n",
    "word_unique = 0\n",
    "total = sum(frequency.values())\n",
    "\n",
    "for word in words_sorted:\n",
    "    word_unique += frequency[word]\n",
    "    temp = word_unique / total * 100\n",
    "    coverage.append(temp)\n",
    "\n",
    "# Plotting\n",
    "plt.figure(figsize=(10, 6))\n",
    "plt.plot(coverage)\n",
    "plt.xlabel('Number of Tokens Considered (Vocabulary)')\n",
    "plt.ylabel('Coverage Percentage')\n",
    "plt.title('Coverage Analysis')\n",
    "plt.grid(True)\n",
    "plt.show()"
   ]
  },
  {
   "cell_type": "markdown",
   "metadata": {},
   "source": [
    "## Coverage Analysis Discussion and Rationalization for Vocabulary Choice:\n",
    "\n",
    "From the graph, we can observe that as the number of tokens or words in the vocabulary increases, the coverage percentage depicts a logarithmic increase pattern which means that additions to the vocabulary contribute significantly to increasing coverage. \n",
    "\n",
    "We can also note that the rate of increase in coverage starts to stabilize when the vocabulary token count reaches approximately 30,000.\n",
    "\n",
    "Depending on the desired coverage, we can stop training early on. After a point, to increase the coverage by a small number we will have to train for much more iterations. This can be seen from the above graph. We achieve 90% coverage when our vocabulary size is 7500. But to achieve a coverage of 95% we need a vocabulary size of 12500.\n",
    "\n",
    "The decision on vocabulary size is a balancing act. It involves considering the computational resources, the nature of the text data, the specifics of the application, and the characteristics of the chosen algorithms. A smaller vocabulary may lead to faster, more efficient models but at the risk of losing potentially valuable information. Conversely, a larger vocabulary could capture more details but may lead to increased complexity, slower performance, and potential overfitting."
   ]
  },
  {
   "cell_type": "markdown",
   "metadata": {},
   "source": [
    "## Algorithm Implementation "
   ]
  },
  {
   "cell_type": "code",
   "execution_count": 25,
   "metadata": {},
   "outputs": [],
   "source": [
    "# Vectors\n",
    "from sklearn.feature_extraction.text import TfidfVectorizer,CountVectorizer\n",
    "\n",
    "# Algorithms\n",
    "from sklearn.naive_bayes import MultinomialNB\n",
    "from sklearn.linear_model import LogisticRegression\n",
    "from sklearn.neural_network import MLPClassifier\n",
    "\n",
    "# Model Selection\n",
    "from sklearn.model_selection import train_test_split\n",
    "\n",
    "\n",
    "# Evaluation metrics\n",
    "from sklearn.metrics import accuracy_score,roc_auc_score \n",
    "from sklearn.metrics import classification_report\n"
   ]
  },
  {
   "cell_type": "code",
   "execution_count": 26,
   "metadata": {},
   "outputs": [],
   "source": [
    "X = [\" \".join(tokens) for tokens, category in processed_data]\n",
    "y = [category for tokens, category in processed_data]"
   ]
  },
  {
   "cell_type": "code",
   "execution_count": 27,
   "metadata": {},
   "outputs": [],
   "source": [
    "X_train, X_test, y_train, y_test = train_test_split(X, y , test_size= 0.20, random_state=42)"
   ]
  },
  {
   "cell_type": "code",
   "execution_count": 28,
   "metadata": {},
   "outputs": [],
   "source": [
    "# TF feature representations\n",
    "tf = CountVectorizer()\n",
    "X_train_tf = tf.fit_transform(X_train)\n",
    "X_test_tf = tf.transform(X_test)\n",
    "\n",
    "# TF-IDF feature representations\n",
    "tfidf = TfidfVectorizer()\n",
    "X_train_tfidf = tfidf.fit_transform(X_train)\n",
    "X_test_tfidf = tfidf.transform(X_test)"
   ]
  },
  {
   "cell_type": "markdown",
   "metadata": {},
   "source": [
    "# Naive Bayes"
   ]
  },
  {
   "cell_type": "code",
   "execution_count": 29,
   "metadata": {},
   "outputs": [],
   "source": [
    "# Creating instanaces of  Multinomial Naive Bayes\n",
    "naive_bayes_tf = MultinomialNB()\n",
    "naive_bayes_tfidf = MultinomialNB()\n",
    "\n",
    "# Training with TF and TFIDF feature represntation\n",
    "naive_bayes_tf.fit(X_train_tf, y_train)\n",
    "naive_bayes_tfidf.fit(X_train_tfidf, y_train)\n",
    "\n",
    "# Predicting \n",
    "y_pred_nb_tf = naive_bayes_tf.predict(X_test_tf)\n",
    "y_pred_nb_tfidf = naive_bayes_tfidf.predict(X_test_tfidf)"
   ]
  },
  {
   "cell_type": "code",
   "execution_count": 30,
   "metadata": {},
   "outputs": [
    {
     "name": "stdout",
     "output_type": "stream",
     "text": [
      "Accuracy with TF feature representations for Naive Bayes 0.8275\n",
      "Classification Report with TF feature representations for Naive Bayes               precision    recall  f1-score   support\n",
      "\n",
      "         neg       0.82      0.83      0.83       200\n",
      "         pos       0.83      0.82      0.83       200\n",
      "\n",
      "    accuracy                           0.83       400\n",
      "   macro avg       0.83      0.83      0.83       400\n",
      "weighted avg       0.83      0.83      0.83       400\n",
      "\n"
     ]
    }
   ],
   "source": [
    "# Evaluating the model with TF features\n",
    "accuracy_nb_tf = accuracy_score(y_test, y_pred_nb_tf)\n",
    "report_nb_tf = classification_report(y_test, y_pred_nb_tf)\n",
    "print(\"Accuracy with TF feature representations for Naive Bayes\", accuracy_nb_tf)\n",
    "print(\"Classification Report with TF feature representations for Naive Bayes\", report_nb_tf)"
   ]
  },
  {
   "cell_type": "code",
   "execution_count": 31,
   "metadata": {},
   "outputs": [
    {
     "name": "stdout",
     "output_type": "stream",
     "text": [
      "Accuracy with TFIDF feature representations for Naive Bayes 0.825\n",
      "Classification Report with TFIDF feature representations for Naive Bayes               precision    recall  f1-score   support\n",
      "\n",
      "         neg       0.81      0.85      0.83       200\n",
      "         pos       0.84      0.80      0.82       200\n",
      "\n",
      "    accuracy                           0.82       400\n",
      "   macro avg       0.83      0.82      0.82       400\n",
      "weighted avg       0.83      0.82      0.82       400\n",
      "\n"
     ]
    }
   ],
   "source": [
    "# Evaluating the model with TFIDF features\n",
    "accuracy_nb_tfidf = accuracy_score(y_test, y_pred_nb_tfidf)\n",
    "report_nb_tfidf = classification_report(y_test, y_pred_nb_tfidf)\n",
    "print(\"Accuracy with TFIDF feature representations for Naive Bayes\", accuracy_nb_tfidf)\n",
    "print(\"Classification Report with TFIDF feature representations for Naive Bayes\", report_nb_tfidf)"
   ]
  },
  {
   "cell_type": "code",
   "execution_count": 32,
   "metadata": {},
   "outputs": [
    {
     "data": {
      "image/png": "[encoded data removed]",
      "text/plain": [
       "<Figure size 800x500 with 1 Axes>"
      ]
     },
     "metadata": {},
     "output_type": "display_data"
    }
   ],
   "source": [
    "# Plot the comparison\n",
    "algorithms = ['TF', 'TF-IDF']\n",
    "accuracies = [accuracy_nb_tf, accuracy_nb_tfidf]\n",
    "\n",
    "plt.figure(figsize=(8, 5))\n",
    "plt.bar(algorithms, accuracies, color='skyblue')\n",
    "plt.xlabel('Feature Representation')\n",
    "plt.ylabel('Accuracy')\n",
    "plt.title('Accuracy Comparison (Multinomial NB)')\n",
    "plt.ylim(0, 1)  \n",
    "plt.show()"
   ]
  },
  {
   "cell_type": "markdown",
   "metadata": {},
   "source": [
    "# Logistic Regression"
   ]
  },
  {
   "cell_type": "code",
   "execution_count": 33,
   "metadata": {},
   "outputs": [],
   "source": [
    "# Creating instanaces of  Logistic Regression\n",
    "lr_tf = LogisticRegression()\n",
    "lr_tfidf = LogisticRegression()\n",
    "\n",
    "# Training with TF and TFIDF feature represntation\n",
    "lr_tf.fit(X_train_tf, y_train)\n",
    "lr_tfidf.fit(X_train_tfidf, y_train)\n",
    "\n",
    "# Predicting \n",
    "y_pred_lr_tf = lr_tf.predict(X_test_tf)\n",
    "y_pred_lr_tfidf = lr_tfidf.predict(X_test_tfidf)"
   ]
  },
  {
   "cell_type": "code",
   "execution_count": 34,
   "metadata": {},
   "outputs": [
    {
     "name": "stdout",
     "output_type": "stream",
     "text": [
      "Accuracy with TF feature representations for Logistic Regression 0.8225\n",
      "Classification Report with TF feature representations for Logistic Regression               precision    recall  f1-score   support\n",
      "\n",
      "         neg       0.82      0.82      0.82       200\n",
      "         pos       0.82      0.82      0.82       200\n",
      "\n",
      "    accuracy                           0.82       400\n",
      "   macro avg       0.82      0.82      0.82       400\n",
      "weighted avg       0.82      0.82      0.82       400\n",
      "\n"
     ]
    }
   ],
   "source": [
    "# Evaluating the model with TF features\n",
    "accuracy_lr_tf = accuracy_score(y_test, y_pred_lr_tf)\n",
    "report_lr_tf = classification_report(y_test, y_pred_lr_tf)\n",
    "print(\"Accuracy with TF feature representations for Logistic Regression\", accuracy_lr_tf)\n",
    "print(\"Classification Report with TF feature representations for Logistic Regression\", report_lr_tf)"
   ]
  },
  {
   "cell_type": "code",
   "execution_count": 35,
   "metadata": {},
   "outputs": [
    {
     "name": "stdout",
     "output_type": "stream",
     "text": [
      "Accuracy with TFIDF feature representations for Logistic Regression 0.8425\n",
      "Classification Report with TFIDF feature representations for Logistic Regression               precision    recall  f1-score   support\n",
      "\n",
      "         neg       0.86      0.81      0.84       200\n",
      "         pos       0.82      0.87      0.85       200\n",
      "\n",
      "    accuracy                           0.84       400\n",
      "   macro avg       0.84      0.84      0.84       400\n",
      "weighted avg       0.84      0.84      0.84       400\n",
      "\n"
     ]
    }
   ],
   "source": [
    "# Evaluating the model with TFIDF features\n",
    "accuracy_lr_tfidf = accuracy_score(y_test, y_pred_lr_tfidf)\n",
    "report_lr_tfidf = classification_report(y_test, y_pred_lr_tfidf)\n",
    "print(\"Accuracy with TFIDF feature representations for Logistic Regression\", accuracy_lr_tfidf)\n",
    "print(\"Classification Report with TFIDF feature representations for Logistic Regression\", report_lr_tfidf)"
   ]
  },
  {
   "cell_type": "code",
   "execution_count": 42,
   "metadata": {},
   "outputs": [
    {
     "data": {
      "image/png": "[encoded data removed]",
      "text/plain": [
       "<Figure size 800x500 with 1 Axes>"
      ]
     },
     "metadata": {},
     "output_type": "display_data"
    }
   ],
   "source": [
    "# Plotting the comparison\n",
    "algorithms = ['TF', 'TF-IDF']\n",
    "accuracies = [accuracy_lr_tf, accuracy_lr_tfidf]\n",
    "\n",
    "plt.figure(figsize=(8, 5))\n",
    "plt.bar(algorithms, accuracies, color='skyblue')\n",
    "plt.xlabel('Feature Representation')\n",
    "plt.ylabel('Accuracy')\n",
    "plt.title('Accuracy Comparison')\n",
    "plt.ylim(0, 1)  \n",
    "plt.show()"
   ]
  },
  {
   "cell_type": "markdown",
   "metadata": {},
   "source": [
    "# MLP"
   ]
  },
  {
   "cell_type": "code",
   "execution_count": 40,
   "metadata": {},
   "outputs": [
    {
     "name": "stdout",
     "output_type": "stream",
     "text": [
      "Architecture  (50,)\n",
      "Accuracy with TF feature representations for MLP  0.835\n",
      "Report with TF feature representations for MLP               precision    recall  f1-score   support\n",
      "\n",
      "         neg       0.83      0.84      0.84       200\n",
      "         pos       0.84      0.83      0.83       200\n",
      "\n",
      "    accuracy                           0.83       400\n",
      "   macro avg       0.84      0.83      0.83       400\n",
      "weighted avg       0.84      0.83      0.83       400\n",
      "\n",
      "Accuracy with TFIDF feature representations for MLP 0.8425\n",
      "Report with TFIDF feature representations for MLP               precision    recall  f1-score   support\n",
      "\n",
      "         neg       0.85      0.83      0.84       200\n",
      "         pos       0.83      0.85      0.84       200\n",
      "\n",
      "    accuracy                           0.84       400\n",
      "   macro avg       0.84      0.84      0.84       400\n",
      "weighted avg       0.84      0.84      0.84       400\n",
      "\n",
      "\n",
      "Architecture  (100,)\n",
      "Accuracy with TF feature representations for MLP  0.8275\n",
      "Report with TF feature representations for MLP               precision    recall  f1-score   support\n",
      "\n",
      "         neg       0.82      0.84      0.83       200\n",
      "         pos       0.84      0.81      0.83       200\n",
      "\n",
      "    accuracy                           0.83       400\n",
      "   macro avg       0.83      0.83      0.83       400\n",
      "weighted avg       0.83      0.83      0.83       400\n",
      "\n",
      "Accuracy with TFIDF feature representations for MLP 0.84\n",
      "Report with TFIDF feature representations for MLP               precision    recall  f1-score   support\n",
      "\n",
      "         neg       0.85      0.83      0.84       200\n",
      "         pos       0.83      0.85      0.84       200\n",
      "\n",
      "    accuracy                           0.84       400\n",
      "   macro avg       0.84      0.84      0.84       400\n",
      "weighted avg       0.84      0.84      0.84       400\n",
      "\n",
      "\n",
      "Architecture  (50, 50)\n",
      "Accuracy with TF feature representations for MLP  0.8525\n",
      "Report with TF feature representations for MLP               precision    recall  f1-score   support\n",
      "\n",
      "         neg       0.85      0.86      0.85       200\n",
      "         pos       0.86      0.84      0.85       200\n",
      "\n",
      "    accuracy                           0.85       400\n",
      "   macro avg       0.85      0.85      0.85       400\n",
      "weighted avg       0.85      0.85      0.85       400\n",
      "\n",
      "Accuracy with TFIDF feature representations for MLP 0.8425\n",
      "Report with TFIDF feature representations for MLP               precision    recall  f1-score   support\n",
      "\n",
      "         neg       0.85      0.83      0.84       200\n",
      "         pos       0.84      0.85      0.84       200\n",
      "\n",
      "    accuracy                           0.84       400\n",
      "   macro avg       0.84      0.84      0.84       400\n",
      "weighted avg       0.84      0.84      0.84       400\n",
      "\n",
      "\n",
      "Architecture  (50, 100)\n",
      "Accuracy with TF feature representations for MLP  0.84\n",
      "Report with TF feature representations for MLP               precision    recall  f1-score   support\n",
      "\n",
      "         neg       0.84      0.84      0.84       200\n",
      "         pos       0.84      0.84      0.84       200\n",
      "\n",
      "    accuracy                           0.84       400\n",
      "   macro avg       0.84      0.84      0.84       400\n",
      "weighted avg       0.84      0.84      0.84       400\n",
      "\n",
      "Accuracy with TFIDF feature representations for MLP 0.8475\n",
      "Report with TFIDF feature representations for MLP               precision    recall  f1-score   support\n",
      "\n",
      "         neg       0.87      0.82      0.84       200\n",
      "         pos       0.83      0.88      0.85       200\n",
      "\n",
      "    accuracy                           0.85       400\n",
      "   macro avg       0.85      0.85      0.85       400\n",
      "weighted avg       0.85      0.85      0.85       400\n",
      "\n",
      "\n"
     ]
    }
   ],
   "source": [
    "# Creating a list with various hidden layer sizes to test the MLP model\n",
    "mlp = [\n",
    "    (50,),            # Single hidden layer - 50 neurons\n",
    "    (100,),           # Single hidden layer - 100 neurons\n",
    "    (50, 50),         # 2 hidden layers - 50 neurons each\n",
    "    (50, 100),        # 2 hidden layers - 50 neurons each and 100 neuron each\n",
    "]\n",
    "\n",
    "\n",
    "toReturn = []\n",
    "\n",
    "# Iterating though the various sizes in the list and assigning them to the hidden layer parameter\n",
    "for architecture in mlp:\n",
    "\n",
    "    # Instance of MLP Classififer for TF and TFIDF feature represenations \n",
    "    mlp_tf = MLPClassifier(hidden_layer_sizes=architecture, max_iter=300, random_state=42)\n",
    "    mlp_tfidf = MLPClassifier(hidden_layer_sizes=architecture, max_iter=300, random_state=42)\n",
    "\n",
    "    # Fitting both the models\n",
    "    mlp_tf.fit(X_train_tf, y_train)\n",
    "    mlp_tfidf.fit(X_train_tfidf, y_train)\n",
    "\n",
    "    # Predicting on the testing set\n",
    "    y_pred_mlp_tf = mlp_tf.predict(X_test_tf)\n",
    "    y_pred_mlp_tfidf = mlp_tfidf.predict(X_test_tfidf)\n",
    "\n",
    "    # Calculating the accuracy and other metrics for both the models\n",
    "    accuracy_mlp_tf = accuracy_score(y_test, y_pred_mlp_tf)\n",
    "    report_mlp_tf = classification_report(y_test, y_pred_mlp_tf)\n",
    "\n",
    "    accuracy_mlp_tfidf = accuracy_score(y_test, y_pred_mlp_tfidf)\n",
    "    report_mlp_tfidf = classification_report(y_test, y_pred_mlp_tfidf)\n",
    "\n",
    "    # Returning the calculated values\n",
    "    toReturn.append({\n",
    "        'architecture': architecture,\n",
    "        'accuracy_mlp_tf': accuracy_mlp_tf,\n",
    "        'report_mlp_tf' : report_mlp_tf,\n",
    "        'accuracy_mlp_tfidf': accuracy_mlp_tfidf,\n",
    "        'report_mlp_tfidf' : report_mlp_tfidf\n",
    "    })\n",
    "\n",
    "# Pring the values\n",
    "for result in toReturn:\n",
    "    print(\"Architecture \", result['architecture'])\n",
    "    print(\"Accuracy with TF feature representations for MLP \", result['accuracy_mlp_tf'] )\n",
    "    print(\"Report with TF feature representations for MLP\", result['report_mlp_tf'] )\n",
    "    print(\"Accuracy with TFIDF feature representations for MLP\", result['accuracy_mlp_tfidf'] )\n",
    "    print(\"Report with TFIDF feature representations for MLP\", result['report_mlp_tfidf'] )\n",
    "    print()"
   ]
  },
  {
   "cell_type": "code",
   "execution_count": 43,
   "metadata": {},
   "outputs": [
    {
     "data": {
      "image/png": "[encoded data removed]",
      "text/plain": [
       "<Figure size 1200x600 with 1 Axes>"
      ]
     },
     "metadata": {},
     "output_type": "display_data"
    }
   ],
   "source": [
    "# Plotting the comparison\n",
    "\n",
    "architectures = ['-'.join(str(layer) for layer in result['architecture']) for result in toReturn]\n",
    "accuracies_tf = [result['accuracy_mlp_tf'] for result in toReturn]\n",
    "accuracies_tfidf = [result['accuracy_mlp_tfidf'] for result in toReturn]\n",
    "\n",
    "# Create an array of x-axis positions for bars\n",
    "x = np.arange(len(architectures))\n",
    "bar_width = 0.35\n",
    "\n",
    "# Creating the bar chart\n",
    "plt.figure(figsize=(12, 6))\n",
    "plt.bar(x - bar_width/2, accuracies_tf, bar_width, label='TF')\n",
    "plt.bar(x + bar_width/2, accuracies_tfidf, bar_width, label='TF-IDF')\n",
    "plt.xlabel('MLP Architectures')\n",
    "plt.ylabel('Accuracy')\n",
    "plt.title('Accuracy Comparison for MLP')\n",
    "plt.xticks(x, architectures, ha='right')\n",
    "plt.show()\n"
   ]
  },
  {
   "cell_type": "markdown",
   "metadata": {},
   "source": [
    "## Discussion and Analysis"
   ]
  },
  {
   "cell_type": "code",
   "execution_count": 39,
   "metadata": {},
   "outputs": [
    {
     "data": {
      "image/png": "[encoded data removed]",
      "text/plain": [
       "<Figure size 640x480 with 1 Axes>"
      ]
     },
     "metadata": {},
     "output_type": "display_data"
    }
   ],
   "source": [
    "# Comparisons of all the algorithms\n",
    "algo = ['Naive Bayes', 'Logistic Regression', 'MLP']\n",
    "accuracy_tf = [accuracy_nb_tf, accuracy_lr_tf, accuracy_mlp_tf]\n",
    "accuracy_tfidf = [accuracy_nb_tfidf, accuracy_lr_tfidf, accuracy_mlp_tfidf]\n",
    "\n",
    "plt.bar(algo, accuracy_tf, label='TF')\n",
    "plt.bar(algo, accuracy_tfidf, label='TF-IDF', alpha=0.7)\n",
    "plt.xlabel('Algorithm')\n",
    "plt.ylabel('Accuracy Percentage')\n",
    "plt.title('Algorithm Comparison - Accuracy')\n",
    "plt.legend()\n",
    "plt.show()"
   ]
  },
  {
   "cell_type": "markdown",
   "metadata": {},
   "source": [
    "## Comparing the results by all the algorithms:\n",
    "\n",
    "The performance of each algorithm can vary based on several factors, such as pre-processing steps, the number of iterations, and the choice of parameters. In our analysis, we applied pre-processing steps such as tokenization using the NLTK Punkt tokenizer, removal of stop-words, and lemmatization. Furthermore, we trained all three algorithms — Multinomial Naive Bayes (NB), Logistic Regression, and Multilayer Perceptron (MLP) — using both Term Frequency (TF) and Term Frequency-Inverse Document Frequency (TF-IDF) feature representations.\n",
    "\n",
    "In case of Naive Bayes, the performance was relatively consistent across both TF and TF-IDF, with accuracies of 82.75% for TF and 82.5% for TF-IDF. This slight preference for TF could be due to Naive Bayes' probabilistic nature, which may not fully leverage the additional information provided by TFIDF. \n",
    "\n",
    "Both MLP and Logistic Regression algorithms showed improved results with TF-IDF over TF. This outcome suggests that the weighting of terms provided by TF-IDF is beneficial in these models. \n",
    "\n",
    "The MLP algorithm was trained also using various architectures. MLP performed better with TF in the two-layer, 50-neuron each setup. However, in all other configurations — whether a single layer with 50 or 100 neurons, or a two-layer setup with 50 and 100 neurons, the algorithm showed better performance with TF-IDF. This suggests that the complexity of the network architecture can influence the effectiveness of the feature representation."
   ]
  },
  {
   "cell_type": "markdown",
   "metadata": {},
   "source": [
    "## Discussion Report:\n",
    "\n",
    "Term Frequency (TF): TF simply counts the number of times word appear in a document. TF is easy to implement which can be helpful in case of simpler tasks.\n",
    "\n",
    "Term Frequency-Inverse Document Frequency (TF-IDF): TFIDF changes the term frequency by scaling it with the inverse document frequency. This reduces the weight of terms that appear frequently in the document and vice versa. This leads to a more balanced representation where the importance of rare but significant terms are still highlighted.\n",
    "\n",
    "We can decide the type of feature representations based on the task we have. While TF is simple and easy to implement, TFIDF balances the TF with the importance of terms which can often lead to better results.\n",
    "\n",
    "## Comparsion of Algorithms:\n",
    "\n",
    "Multinomial Naive Bayes : Naive Bayes is often considered as the baseline classifier for text classification tasks such as sentiment analysis. It is a simple classifier and is known for it's speed. However, it assumes that the tokens are independent, which is not the case in most situations where context and word order matter. Due to it's simplicity, it may not perform as well with complex features.\n",
    "\n",
    "Logistic Regression : Logistic Regression can handle various relationships in data and does not assume it's independent in comparison to Naive Bayes. Even though it provides good results with feature engineering, it can struggle in case where there are non-linear relationships in data.\n",
    "\n",
    "Multilayer Perceptron : MLP is a neural network architecture hence is capable of capturing complex relationships within data. It is also capable of modelling non-linear data but does require more computational resources to train the models depending on the size. \n"
   ]
  }
 ],
 "metadata": {
  "kernelspec": {
   "display_name": "nlp",
   "language": "python",
   "name": "python3"
  },
  "language_info": {
   "codemirror_mode": {
    "name": "ipython",
    "version": 3
   },
   "file_extension": ".py",
   "mimetype": "text/x-python",
   "name": "python",
   "nbconvert_exporter": "python",
   "pygments_lexer": "ipython3",
   "version": "3.10.9"
  }
 },
 "nbformat": 4,
 "nbformat_minor": 2
}
