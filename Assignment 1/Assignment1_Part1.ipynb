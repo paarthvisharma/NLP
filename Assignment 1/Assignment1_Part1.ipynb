{
 "cells": [
  {
   "cell_type": "markdown",
   "metadata": {},
   "source": [
    "## Byte Pair Encoding"
   ]
  },
  {
   "cell_type": "markdown",
   "metadata": {},
   "source": [
    "## Implemetation\n",
    "\n",
    "1. Initialization : The BPE class is initialized with number of merges. It also initializes one empty dictionary for BPE codes, a list for vocbulary and a set for the corpus.\n",
    "2. Text Preprocessing and cleaning : The preprocess method 'preprocesses' the input text, converting text to lower case, removing any punctuations and handling new lines.\n",
    "3. Building BPE Codes : 'build_bpe' method processes the input text to build the BPE codes. It splits the text into words, then further into characters, creating an initial vocabulary with frequencies of each word. \n",
    "4. Get Statistics : The 'get_stats' method calculates the frequency of adjacent character pairs in the vocabulary.\n",
    "5. Merge Vocabulary : The 'merge_vocabulary' method merges the most frequent pair and updates the vocabulary. \n",
    "6. Encoding Text : The 'encode' method encodes the input text using the learned BPE merges. It also splits each word into characters and merges them based on the learned BPE codes. The process continues until no more pairs can be merged as per BPE codes."
   ]
  },
  {
   "cell_type": "code",
   "execution_count": 3,
   "metadata": {},
   "outputs": [],
   "source": [
    "# Importing the libraries\n",
    "import string\n",
    "import matplotlib.pyplot as plt\n",
    "\n",
    "# BPE Class\n",
    "class BPE:\n",
    "    # Initialize BPE with the number of merges, vocab and corpus\n",
    "    def __init__(self, num_merges):\n",
    "        self.num_merges = num_merges\n",
    "        self.bpe_codes = {}\n",
    "        self.vocab = []\n",
    "        self.vocab_size_history = []\n",
    "        self.corpus = set()\n",
    "\n",
    "    # Calculate frequencies of adjacent pairs in the vocabulary\n",
    "    def get_stats(self, vocabulary):\n",
    "        pairs = {}\n",
    "        for word, freq in vocabulary.items():\n",
    "            symbols = word.split()\n",
    "            for i in range(len(symbols)-1):\n",
    "                pair = (symbols[i], symbols[i+1])\n",
    "                if pair in pairs:\n",
    "                    pairs[pair] += freq\n",
    "                else:\n",
    "                    pairs[pair] = freq\n",
    "        return pairs\n",
    "\n",
    "    # Merge the most frequent pair in the vocabulary\n",
    "    def merge_vocabulary(self, pair, v_in):\n",
    "        v_out = {}\n",
    "        bigram = ' '.join(pair)\n",
    "        replacement = ''.join(pair)\n",
    "        if bigram != replacement:\n",
    "             self.vocab_size_history.append( self.vocab_size_history[-1] + 1)\n",
    "        for word in v_in:\n",
    "            w_out = word.replace(bigram, replacement)\n",
    "            v_out[w_out] = v_in[word]\n",
    "        return v_out\n",
    "\n",
    "    # Cleaning and preprocessing the text\n",
    "    def preprocess(self, text):\n",
    "        text = text.lower()\n",
    "        for i in string.punctuation:\n",
    "            if i == \".\":\n",
    "                text = text.replace(i, \" \")\n",
    "            else:\n",
    "                text = text.replace(i, \"\")\n",
    "        text = text.replace(\"\\n\", \" \")\n",
    "        return text\n",
    "\n",
    "    # Build BPE codes from the input text\n",
    "    def build_bpe(self, text):\n",
    "        vocabulary = {}\n",
    "        text = self.preprocess(text)\n",
    "        for word in text.split(' '):\n",
    "            word = ' '.join(list(word))\n",
    "            if word in vocabulary:\n",
    "                vocabulary[word] += 1\n",
    "            else:\n",
    "                vocabulary[word] = 1\n",
    "        uniqu = set()\n",
    "        for x in text:\n",
    "            uniqu.add(x)\n",
    "        self.vocab_size_history.append(len(uniqu))\n",
    "        \n",
    "        for i in range(self.num_merges):\n",
    "            pairs = self.get_stats(vocabulary)\n",
    "            if not pairs:\n",
    "                break\n",
    "            best = max(pairs, key=pairs.get)\n",
    "            vocabulary = self.merge_vocabulary(best, vocabulary)\n",
    "            self.bpe_codes[best] = i\n",
    "            \n",
    "        for key, val in vocabulary.items():\n",
    "            self.vocab.append(key)\n",
    "        self.vocab.sort(reverse = True, key = len)\n",
    "        self.corpus = set(self.vocab)\n",
    "\n",
    "    # Encode the text using the learned BPE codes\n",
    "    def encode(self, text):\n",
    "        encoded_text = [' '.join(list(word)) for word in text.split()]\n",
    "        toReturn = []\n",
    "        for i, word in enumerate(encoded_text):\n",
    "            for pair in self.bpe_codes:\n",
    "                pattern = ' '.join(pair)\n",
    "                while pattern in word:\n",
    "                    word = word.replace(pattern, ''.join(pair), 1)\n",
    "            toReturn.extend(word.split())\n",
    "        return toReturn\n"
   ]
  },
  {
   "cell_type": "markdown",
   "metadata": {},
   "source": [
    "## Testing the code with a smaller subset"
   ]
  },
  {
   "cell_type": "code",
   "execution_count": 20,
   "metadata": {},
   "outputs": [
    {
     "name": "stdout",
     "output_type": "stream",
     "text": [
      "['tokenization', 'additionally', 'performance', 'comparative', 'assignment', 'implement', 'algorithm', 'reference', 'tokenizer', 'encoding', 'analysis', 'primary', 'dataset', 'assess', 'create', 'using', 'focus', 'books', 'nltks', 'punkt', 'goal', 'this', 'byte', 'pair', 'nltk', 'with', 'will', 'the', 'bpe', 'for', 'and', 'its', 'you', 'of', 'is', 'to', 'on', 'a', '']\n"
     ]
    },
    {
     "data": {
      "text/plain": [
       "['w', 'or', 'd', 's', 'to', 't', 'r', 'a', 'i', 'n', 'on']"
      ]
     },
     "execution_count": 20,
     "metadata": {},
     "output_type": "execute_result"
    }
   ],
   "source": [
    "# Testing with 20000 merges\n",
    "a = BPE(20000)\n",
    "\n",
    "# Sample text\n",
    "text = \"\"\"The primary goal of this assignment is to implement the Byte Pair Encoding (BPE)\n",
    "algorithm for tokenization and assess its performance using a NLTK dataset, with a focus on\n",
    "books. Additionally, you will create a reference tokenization using NLTK's punkt tokenizer for\n",
    "comparative analysis.\"\"\"\n",
    "\n",
    "# Building BPE\n",
    "a.build_bpe(text)\n",
    "print(a.vocab)\n",
    "\n",
    "# Encoding the tokens\n",
    "a.encode(\"words to train on\")"
   ]
  },
  {
   "cell_type": "markdown",
   "metadata": {},
   "source": [
    "## Train on NLTK Dataset        "
   ]
  },
  {
   "cell_type": "code",
   "execution_count": 21,
   "metadata": {},
   "outputs": [
    {
     "name": "stderr",
     "output_type": "stream",
     "text": [
      "[nltk_data] Downloading package gutenberg to\n",
      "[nltk_data]     /Users/paarthvisharma/nltk_data...\n",
      "[nltk_data]   Package gutenberg is already up-to-date!\n"
     ]
    }
   ],
   "source": [
    "# Importing the necessary libraries\n",
    "\n",
    "import nltk\n",
    "nltk.download('gutenberg')\n",
    "from nltk.corpus import gutenberg"
   ]
  },
  {
   "cell_type": "code",
   "execution_count": 22,
   "metadata": {},
   "outputs": [
    {
     "name": "stdout",
     "output_type": "stream",
     "text": [
      "Available Books:\n",
      "austen-emma.txt\n",
      "austen-persuasion.txt\n",
      "austen-sense.txt\n",
      "bible-kjv.txt\n",
      "blake-poems.txt\n",
      "bryant-stories.txt\n",
      "burgess-busterbrown.txt\n",
      "carroll-alice.txt\n",
      "chesterton-ball.txt\n",
      "chesterton-brown.txt\n",
      "chesterton-thursday.txt\n",
      "edgeworth-parents.txt\n",
      "melville-moby_dick.txt\n",
      "milton-paradise.txt\n",
      "shakespeare-caesar.txt\n",
      "shakespeare-hamlet.txt\n",
      "shakespeare-macbeth.txt\n",
      "whitman-leaves.txt\n"
     ]
    }
   ],
   "source": [
    "# Importing and printing the list of all the available books\n",
    "files = gutenberg.fileids()\n",
    "\n",
    "print(\"Available Books:\")\n",
    "for book in files:\n",
    "    print(book)"
   ]
  },
  {
   "cell_type": "code",
   "execution_count": 7,
   "metadata": {},
   "outputs": [
    {
     "name": "stdout",
     "output_type": "stream",
     "text": [
      "\n",
      "Sample Text from 'shakespeare-hamlet.txt':\n",
      "[The Tragedie of Hamlet by William Shakespeare 1599]\n",
      "\n",
      "\n",
      "Actus Primus. Scoena Prima.\n",
      "\n",
      "Enter Barnardo and Francisco two Centinels.\n",
      "\n",
      "  Barnardo. Who's there?\n",
      "  Fran. Nay answer me: Stand & vnfold\n",
      "your selfe\n",
      "\n",
      "   Bar. Long liue the King\n",
      "\n",
      "   Fran. Barnardo?\n",
      "  Bar. He\n",
      "\n",
      "   Fran. You come most carefully vpon your houre\n",
      "\n",
      "   Bar. 'Tis now strook twelue, get thee to bed Francisco\n",
      "\n",
      "   Fran. For this releefe much thankes: 'Tis bitter cold,\n",
      "And I am sicke at heart\n",
      "\n",
      "   Barn. Haue you had quiet Guard?\n",
      "  Fran. Not\n"
     ]
    }
   ],
   "source": [
    "# Selecting the shakespeare-hamlet book text for training\n",
    "selected_book = gutenberg.raw('shakespeare-hamlet.txt')\n",
    "print(\"\\nSample Text from 'shakespeare-hamlet.txt':\")\n",
    "print(selected_book[:500])"
   ]
  },
  {
   "cell_type": "code",
   "execution_count": 24,
   "metadata": {},
   "outputs": [
    {
     "name": "stdout",
     "output_type": "stream",
     "text": [
      "Encoded Text:  ['[', 'T', 'he', 'T', 'ragedie', 'of', 'H', 'am', 'let', 'by', 'W', 'illiam', 'S', 'hakespeare', '1599', ']', 'A', 'ctus', 'P', 'rimus', '.', 'S', 'co', 'en', 'a', 'P', 'rima', '.', 'E', 'nter', 'B', 'ar', 'n', 'ardo', 'and', 'F', 'ran', 'cisco', 'two', 'C', 'entinels', '.', 'B', 'ar', 'n', 'ardo', '.', 'W', 'ho', \"'\", 's', 'there', '?', 'F', 'ran', '.', 'N', 'ay', 'answer', 'me', ':', 'S', 'tand', '&', 'vnfold', 'your', 'selfe', 'B', 'ar', '.', 'L', 'on', 'g', 'liue', 'the', 'K', 'ing', 'F', 'ran', '.', 'B', 'ar', 'n', 'ardo', '?', 'B', 'ar', '.', 'H', 'e', 'F', 'ran', '.', 'Y', 'ou', 'come', 'most', 'carefully', 'vpon', 'your']\n"
     ]
    }
   ],
   "source": [
    "# Training\n",
    "# Initializing the BPE class with 5000 merges\n",
    "bpe = BPE(num_merges=5000)\n",
    "\n",
    "# Building BPE\n",
    "bpe.build_bpe(selected_book)\n",
    "\n",
    "# Encoding and priniting the text\n",
    "encoded_text = bpe.encode(selected_book)\n",
    "# Printing only a few for refernce\n",
    "print(\"Encoded Text: \", encoded_text[:100])"
   ]
  },
  {
   "cell_type": "markdown",
   "metadata": {},
   "source": [
    "## Creating the refernce tokenization"
   ]
  },
  {
   "cell_type": "code",
   "execution_count": 25,
   "metadata": {},
   "outputs": [
    {
     "name": "stdout",
     "output_type": "stream",
     "text": [
      "[Leaves of Grass by Walt Whitman 1855]\n",
      "\n",
      "\n",
      "Come, said my soul,\n",
      "Such verses for my Body let us write, (\n"
     ]
    }
   ],
   "source": [
    "# Importing the whitman-leaves book for testing \n",
    "test_books = gutenberg.raw('whitman-leaves.txt')\n",
    "# Printing only a few for refernce\n",
    "print(test_books[:100])"
   ]
  },
  {
   "cell_type": "code",
   "execution_count": 27,
   "metadata": {},
   "outputs": [
    {
     "name": "stdout",
     "output_type": "stream",
     "text": [
      "NLTK Tokens:  ['[', 'Leaves', 'of', 'Grass', 'by', 'Walt', 'Whitman', '1855', ']', 'Come', ',', 'said', 'my', 'soul', ',', 'Such', 'verses', 'for', 'my', 'Body', 'let', 'us', 'write', ',', '(', 'for', 'we', 'are', 'one', ',', ')', 'That', 'should', 'I', 'after', 'return', ',', 'Or', ',', 'long', ',', 'long', 'hence', ',', 'in', 'other', 'spheres', ',', 'There', 'to', 'some', 'group', 'of', 'mates', 'the', 'chants', 'resuming', ',', '(', 'Tallying', 'Earth', \"'s\", 'soil', ',', 'trees', ',', 'winds', ',', 'tumultuous', 'waves', ',', ')', 'Ever', 'with', 'pleas', \"'d\", 'smile', 'I', 'may', 'keep', 'on', ',', 'Ever', 'and', 'ever', 'yet', 'the', 'verses', 'owning', '--', 'as', ',', 'first', ',', 'I', 'here', 'and', 'now', 'Signing', 'for']\n",
      "Token size:  149201\n"
     ]
    }
   ],
   "source": [
    "# Tokenizing the testing book with nltk tokenizer\n",
    "from nltk.tokenize import word_tokenize\n",
    "nltk_tokens = word_tokenize(test_books)\n",
    "\n",
    "# Creating a set and priniting a few nltk tokens\n",
    "nltk_tokens_set =set(nltk_tokens)\n",
    "print(\"NLTK Tokens: \", nltk_tokens[:100])\n",
    "print(\"Token size: \", len(nltk_tokens))"
   ]
  },
  {
   "cell_type": "markdown",
   "metadata": {},
   "source": [
    "## Testing on NLTK Dataset"
   ]
  },
  {
   "cell_type": "code",
   "execution_count": 28,
   "metadata": {},
   "outputs": [
    {
     "name": "stdout",
     "output_type": "stream",
     "text": [
      "Tokens:  ['[', 'L', 'e', 'a', 'ves', 'of', 'G', 'ras', 's', 'by', 'W', 'alt', 'W', 'hit', 'man', '1', '8', '5', '5', ']', 'C', 'o', 'me', ',', 'said', 'my', 'sou', 'l', ',', 'S', 'u', 'ch', 'verses', 'for', 'my', 'B', 'ody', 'let', 'us', 'write', ',', '(', 'for', 'we', 'are', 'one', ',', ')', 'T', 'hat', 'should', 'I', 'after', 'return', ',', 'O', 'r', ',', 'long', ',', 'long', 'hence', ',', 'in', 'other', 'spheres', ',', 'T', 'here', 'to', 'some', 'grou', 'p', 'of', 'mates', 'the', 'chants', 'resuming', ',', '(', 'T', 'allying', 'E', 'arth', \"'\", 's', 'soi', 'l', ',', 'trees', ',', 'winds', ',', 'tumu', 'ltuous', 'wa', 'ves', ',', ')', 'E']\n",
      "Token size:  202876\n"
     ]
    }
   ],
   "source": [
    "# Tokenizing the testing book using the BPE encode function\n",
    "bpe_tokens = bpe.encode(test_books)\n",
    "print(\"Tokens: \", bpe_tokens[:100])\n",
    "print(\"Token size: \", len(bpe_tokens))"
   ]
  },
  {
   "cell_type": "markdown",
   "metadata": {},
   "source": [
    "## Comparing with Standard Tokenization"
   ]
  },
  {
   "cell_type": "markdown",
   "metadata": {},
   "source": [
    "1. Tokenization Accuracy:\n",
    "- Count the number of tokens that were correctly tokenized by your algorithm.\n",
    "- Divide this by the total number of tokens in the ground truth (reference tokenization).\n",
    "- Multiply by 100 to express the result as a percentage"
   ]
  },
  {
   "cell_type": "code",
   "execution_count": 29,
   "metadata": {},
   "outputs": [
    {
     "name": "stdout",
     "output_type": "stream",
     "text": [
      "Tokenization accuracy for whitman-leaves.txt using BPE tokenizer :  88.72862782421029\n"
     ]
    }
   ],
   "source": [
    "# First : Calculating Tokenization Accuracy\n",
    "correct_tokens = sum(token in nltk_tokens_set for token in bpe_tokens)\n",
    "accuracy = (correct_tokens / len(nltk_tokens)) * 100\n",
    "\n",
    "print(\"Tokenization accuracy for whitman-leaves.txt using BPE tokenizer : \" , accuracy)\n"
   ]
  },
  {
   "cell_type": "markdown",
   "metadata": {},
   "source": [
    "2. Tokenization Coverage:\n",
    "- Identify the unique tokens covered by your algorithm.\n",
    "- Divide this by the total number of unique tokens in the ground truth.\n",
    "- Multiply by 100 to express the result as a percentage"
   ]
  },
  {
   "cell_type": "code",
   "execution_count": 30,
   "metadata": {},
   "outputs": [
    {
     "name": "stdout",
     "output_type": "stream",
     "text": [
      "Tokenization coverage for whitman-leaves.txt using BPE tokenizer :  33.53443296322444\n"
     ]
    }
   ],
   "source": [
    "# Second : Tokenization Coverage\n",
    "# Identifying the unique tokens covered by implemented BPE algorithm:\n",
    "bpe_tokens_set = set(bpe_tokens)\n",
    "coverage = (len(bpe_tokens_set.intersection(nltk_tokens_set)) / len(nltk_tokens_set)) * 100\n",
    "print(\"Tokenization coverage for whitman-leaves.txt using BPE tokenizer : \" , coverage)"
   ]
  },
  {
   "cell_type": "markdown",
   "metadata": {},
   "source": [
    "3. Precision, Recall and F1-Score:\n",
    "- True Positives: Number of correctly identified tokens.\n",
    "- False Positives: Number of tokens identified by your algorithm but not present in the ground truth.\n",
    "- False Negatives: Number of tokens in the ground truth but not identified by your algorithm.\n",
    "- Precision measures the accuracy of the positive predictions.\n",
    "- Recall measures the ability to capture all the relevant instances.\n",
    "- F1-Score is the harmonic mean of precision and recall, providing a balanced metric"
   ]
  },
  {
   "cell_type": "code",
   "execution_count": 31,
   "metadata": {},
   "outputs": [
    {
     "name": "stdout",
     "output_type": "stream",
     "text": [
      "Precision:  0.5497106785902157\n",
      "Recall:  0.3353443296322444\n",
      "F1-Score:  0.41656700948736347\n"
     ]
    }
   ],
   "source": [
    "# Calculating the intersection to identify the correct tokens\n",
    "TP = len(bpe_tokens_set.intersection(nltk_tokens_set))\n",
    "# Tokens identified by algorithm that are not present in nltk\n",
    "FP = sum(token not in nltk_tokens_set for token in bpe_tokens_set)\n",
    "# Tokens in nltk that are not identified by the algorithm\n",
    "FN = sum(token not in bpe_tokens_set for token in nltk_tokens_set)\n",
    "\n",
    "# Calculating the precision, recall and F1-score based on the calculated values\n",
    "precision = TP / (TP + FP)\n",
    "recall = TP / (TP + FN)\n",
    "f1_score = 2 * (precision * recall) / (precision + recall)\n",
    "\n",
    "print(\"Precision: \" , precision)\n",
    "print(\"Recall: \" , recall)\n",
    "print(\"F1-Score: \" , f1_score)"
   ]
  },
  {
   "cell_type": "markdown",
   "metadata": {},
   "source": [
    "4. Jaccard Similarity:\n",
    "- Identify the common tokens between the predicted and ground truth sets.\n",
    "- Divide this by the total unique tokens in both sets"
   ]
  },
  {
   "cell_type": "code",
   "execution_count": 32,
   "metadata": {},
   "outputs": [
    {
     "name": "stdout",
     "output_type": "stream",
     "text": [
      "Jaccard Similarity for whitman-leaves.txt using BPE tokenizer :  0.26307839484416695\n"
     ]
    }
   ],
   "source": [
    "# Calculating Jaccard Similarity\n",
    "jaccard_similarity = len(bpe_tokens_set.intersection(nltk_tokens_set)) / len(bpe_tokens_set.union(nltk_tokens_set))\n",
    "print(\"Jaccard Similarity for whitman-leaves.txt using BPE tokenizer : \" , jaccard_similarity)"
   ]
  },
  {
   "cell_type": "markdown",
   "metadata": {},
   "source": [
    "## Visualizations"
   ]
  },
  {
   "cell_type": "code",
   "execution_count": 33,
   "metadata": {},
   "outputs": [
    {
     "name": "stdout",
     "output_type": "stream",
     "text": [
      "['pastoricallcomicallhistoricallpastorall', 'tragicallcomicallhistoricallpastorall', 'tragicallhistoricall', 'strumpetfortune', 'shrowdingsheete', 'shrillsounding', 'selfeslaughter', 'fearesurprized', 'encompassement', 'transformation', 'ioyntlabourer', 'instrumentall', 'stubbornnesse', 'vnderstanding', 'vnproportiond', 'entertainment', 'imperfections', 'incontinencie', 'guildensterne', 'circumstances', 'euerpreserued', 'determination', 'indifferently', 'promisecrammd', 'heauenkissing', 'hoodmanblinde', 'recognizances', 'wonderwounded', 'reconcilement', 'compulsatiue', 'preparations', 'invulnerable', 'conueniently', 'vnpreuayling', 'vnprofitable', 'circumscribd', 'circumstance', 'entreatments', 'questionable', 'disappointed', 'vneffectuall', 'indirections', 'vndertakings', 'tediousnesse', 'prosperously', 'anticipation', 'congregation', 'apprehension', 'quintessence', 'tyrannically', 'controuersie', 'appurtenance', 'abridgements', 'pigeonliuerd', 'remorselesse', 'malefactions', 'guildenstern', 'consummation', 'vndiscouered', 'remembrances', 'commencement', 'perywigpated', 'inexplicable', 'conuersation', 'imaginations', 'protestation', 'thoughtsicke', 'grassegreene', 'liferendring', 'remembraunce', 'satisfaction', 'ambassadours', 'sheepskinnes', 'calueskinnes', 'equiuocation', 'beerebarrell', 'vnsanctified', 'indiscretion', 'forgiuenesse', 'shakespeare', 'shipwrights', 'inheritance', 'foreknowing', 'maiesticall', 'extrauagant', 'remembrance', 'proportions', 'suspiration', 'commendable', 'condolement', 'vnfortified', 'euerlasting', 'vnrighteous', 'wittemberge', 'disposition', 'yesternight', 'countenance', 'necessaries', 'importunity', 'inuestments']\n"
     ]
    }
   ],
   "source": [
    "# Printing some part of the vocabulary for refernce\n",
    "print(bpe.vocab[:100])"
   ]
  },
  {
   "cell_type": "code",
   "execution_count": 34,
   "metadata": {},
   "outputs": [
    {
     "data": {
      "image/png": "[encoded data removed]",
      "text/plain": [
       "<Figure size 640x480 with 1 Axes>"
      ]
     },
     "metadata": {},
     "output_type": "display_data"
    }
   ],
   "source": [
    "# Using the trained instances, priniting the vocab size changes\n",
    "plt.plot(range(len(bpe.vocab_size_history)), bpe.vocab_size_history)\n",
    "plt.title('Vocabulary Size Changes during BPE Training')\n",
    "plt.xlabel('Iterations')\n",
    "plt.ylabel('Vocabulary Size Changes')\n",
    "plt.show()\n"
   ]
  },
  {
   "cell_type": "markdown",
   "metadata": {},
   "source": [
    "## Report and further discussions"
   ]
  },
  {
   "cell_type": "markdown",
   "metadata": {},
   "source": [
    "## Byte Pair Encoding (BPE)\n",
    "\n",
    "Byte Pair Encoding (BPE) is a subword tokenization algorithm used in Natural Language Processing (NLP) to handle out-of-vocabulary words. In my implementation of the BPE algorithm, the following steps have been taken:\n",
    "\n",
    "## Implementation Details\n",
    "\n",
    "1. Initialization: The BPE class is initialized with the number of merges. It also initializes an empty dictionary for BPE codes, a list for vocabulary, and a set for the corpus.\n",
    "2. Text Preprocessing and Cleaning: The preprocess method processes the input text, converting text to lowercase, removing any punctuation, and handling new lines.\n",
    "3. Building BPE Codes: The build_bpe method processes the input text to build the BPE codes. It splits the text into words, then further into characters, creating an initial vocabulary with frequencies for each word.\n",
    "4. Get Statistics: The get_stats method calculates the frequency of adjacent character pairs in the vocabulary.\n",
    "5. Merge Vocabulary: The merge_vocabulary method merges the most frequent pair and updates the vocabulary.\n",
    "6. Encoding Text: The encode method encodes input text using the learned BPE merges. It splits each word into characters and merges them based on the learned BPE codes. The process continues until no more pairs can be merged as per the BPE codes.\n",
    "\n",
    "## Results\n",
    "\n",
    "We observe that the vocabulary initially grows as individual characters are combined into common pairs. As the number of merges increases, the size of the vocabulary stabilizes, reflecting a balance between merging existing tokens and creating new ones.\n",
    "\n",
    "## Strengths of BPE\n",
    "\n",
    "1. BPE can handle unknown words by breaking them down into known subwords.\n",
    "2. It is capable of adapting to language and corpus during the training process.\n",
    "3. It balances word and character-level tokenization, providing effective performance.\n",
    "\n",
    "## Weaknesses of BPE\n",
    "1. The fixed number of merges in BPE does not work optimally in all cases.\n",
    "2. BPE does not consider the context of the tokens or words, which can lead to lower performance in some cases.\n",
    "\n",
    "## Challenges Faced During Implementation and Potential Recommendations\n",
    "\n",
    "1. Determining the optimal number of merges can be time-consuming and involve much trial and error. A more dynamic approach to determining the number of merges could be adopted.\n",
    "2. The training process was time-consuming, even though a limited number of books/texts were used for training. For future use cases, making the code more efficient or utilizing more computational resources could be beneficial.#"
   ]
  }
 ],
 "metadata": {
  "kernelspec": {
   "display_name": "nlp",
   "language": "python",
   "name": "python3"
  },
  "language_info": {
   "codemirror_mode": {
    "name": "ipython",
    "version": 3
   },
   "file_extension": ".py",
   "mimetype": "text/x-python",
   "name": "python",
   "nbconvert_exporter": "python",
   "pygments_lexer": "ipython3",
   "version": "3.10.9"
  }
 },
 "nbformat": 4,
 "nbformat_minor": 4
}
